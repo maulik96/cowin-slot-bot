{
 "cells": [
  {
   "cell_type": "code",
   "execution_count": 1,
   "metadata": {},
   "outputs": [],
   "source": [
    "import requests\n",
    "import json\n",
    "import time\n",
    "import threading\n",
    "import logging\n",
    "from datetime import datetime, timedelta"
   ]
  },
  {
   "cell_type": "code",
   "execution_count": 2,
   "metadata": {},
   "outputs": [],
   "source": [
    "logging.basicConfig(filename=\"cowin.log\",\n",
    "                            filemode='a',\n",
    "                            format='%(asctime)s,%(msecs)d %(name)s %(levelname)s %(message)s',\n",
    "                            datefmt='%H:%M:%S',\n",
    "                            level=logging.INFO)\n",
    "logger = logging.getLogger(\"cowin\")"
   ]
  },
  {
   "cell_type": "code",
   "execution_count": 3,
   "metadata": {},
   "outputs": [],
   "source": [
    "headers = {'User-Agent': 'Mozilla/5.0 (Windows NT 6.1; WOW64) AppleWebKit/537.36 (KHTML, like Gecko) Chrome/56.0.2924.76 Safari/537.36'} "
   ]
  },
  {
   "cell_type": "code",
   "execution_count": 4,
   "metadata": {},
   "outputs": [],
   "source": [
    "states = json.loads(requests.get(\"https://cdn-api.co-vin.in/api/v2/admin/location/states\", headers=headers).text)['states']"
   ]
  },
  {
   "cell_type": "code",
   "execution_count": 5,
   "metadata": {},
   "outputs": [],
   "source": [
    "states_info = {}\n",
    "districts_rev = {}\n",
    "for state in states:\n",
    "    dists = json.loads(requests.get(f\"https://cdn-api.co-vin.in/api/v2/admin/location/districts/{state['state_id']}\", \n",
    "                                    headers=headers).text)['districts']\n",
    "    districts = {}\n",
    "    for d in dists:\n",
    "        districts[d['district_id']] = d['district_name']\n",
    "        districts_rev[d['district_name'].lower()] = d['district_id']\n",
    "    states_info[state['state_id']] = {'name':state['state_name'], 'districts':districts}"
   ]
  },
  {
   "cell_type": "code",
   "execution_count": 6,
   "metadata": {},
   "outputs": [],
   "source": [
    "states_rev = {s['state_name'].lower(): s['state_id'] for s in states}"
   ]
  },
  {
   "cell_type": "code",
   "execution_count": 7,
   "metadata": {},
   "outputs": [],
   "source": [
    "logger.info(districts_rev)\n",
    "logger.info(states_rev)"
   ]
  },
  {
   "cell_type": "code",
   "execution_count": 8,
   "metadata": {},
   "outputs": [],
   "source": [
    "def find_appointments(district_ids, date, search_for_18_plus=True):\n",
    "    result = []\n",
    "    for district_id in district_ids:\n",
    "        logger.info(\"Querying for district_id {} and date {}\".format(district_id, date))\n",
    "        url = \"https://cdn-api.co-vin.in/api/v2/appointment/sessions/calendarByDistrict?district_id={}&date={}\".format(district_id, date)\n",
    "        public_url = \"https://cdn-api.co-vin.in/api/v2/appointment/sessions/public/calendarByDistrict?district_id={}&date={}\".format(district_id, date)\n",
    "        response = requests.get(url)\n",
    "        if response.status_code != 200:\n",
    "            response = requests.get(public_url, headers=headers)\n",
    "        if response.status_code != 200:\n",
    "            logger.error(\"No response received for district_id {} and date {}\".format(district_id, date))\n",
    "            continue\n",
    "        appointments = json.loads(response.text)\n",
    "        centers = appointments['centers']\n",
    "        for center in centers:\n",
    "            for session in center['sessions']:\n",
    "                if session['available_capacity'] == 0:\n",
    "                    continue\n",
    "                if search_for_18_plus and session['min_age_limit'] > 18:\n",
    "                    continue\n",
    "                result.append(\"{} - {} - {} - {}\".format(session['date'], center['name'],\n",
    "                                                         center['district_name'], center['pincode']))\n",
    "    return result"
   ]
  },
  {
   "cell_type": "code",
   "execution_count": 9,
   "metadata": {},
   "outputs": [],
   "source": [
    "def valid_state(state):\n",
    "    return state.lower() in states_rev.keys()\n",
    "\n",
    "def valid_district(district):\n",
    "    return district.lower() in districts_rev.keys()"
   ]
  },
  {
   "cell_type": "code",
   "execution_count": 10,
   "metadata": {},
   "outputs": [
    {
     "name": "stdout",
     "output_type": "stream",
     "text": [
      "Collecting python-telegram-bot\n",
      "  Downloading python_telegram_bot-13.5-py3-none-any.whl (455 kB)\n",
      "\u001b[K     |████████████████████████████████| 455 kB 2.1 MB/s eta 0:00:01\n",
      "\u001b[?25hRequirement already satisfied, skipping upgrade: tornado>=5.1 in /opt/anaconda/lib/python3.8/site-packages (from python-telegram-bot) (6.1)\n",
      "Collecting APScheduler==3.6.3\n",
      "  Downloading APScheduler-3.6.3-py2.py3-none-any.whl (58 kB)\n",
      "\u001b[K     |████████████████████████████████| 58 kB 5.9 MB/s  eta 0:00:01\n",
      "\u001b[?25hRequirement already satisfied, skipping upgrade: certifi in /opt/anaconda/lib/python3.8/site-packages (from python-telegram-bot) (2020.12.5)\n",
      "Requirement already satisfied, skipping upgrade: pytz>=2018.6 in /opt/anaconda/lib/python3.8/site-packages (from python-telegram-bot) (2021.1)\n",
      "Requirement already satisfied, skipping upgrade: six>=1.4.0 in /opt/anaconda/lib/python3.8/site-packages (from APScheduler==3.6.3->python-telegram-bot) (1.15.0)\n",
      "Requirement already satisfied, skipping upgrade: setuptools>=0.7 in /opt/anaconda/lib/python3.8/site-packages (from APScheduler==3.6.3->python-telegram-bot) (50.3.1.post20201107)\n",
      "Collecting tzlocal>=1.2\n",
      "  Downloading tzlocal-2.1-py2.py3-none-any.whl (16 kB)\n",
      "Installing collected packages: tzlocal, APScheduler, python-telegram-bot\n",
      "Successfully installed APScheduler-3.6.3 python-telegram-bot-13.5 tzlocal-2.1\n"
     ]
    }
   ],
   "source": [
    "!pip install python-telegram-bot --upgrade"
   ]
  },
  {
   "cell_type": "code",
   "execution_count": 11,
   "metadata": {},
   "outputs": [],
   "source": [
    "from telegram import ReplyKeyboardMarkup, ReplyKeyboardRemove, Update\n",
    "from telegram.ext import (\n",
    "    Updater,\n",
    "    CommandHandler,\n",
    "    MessageHandler,\n",
    "    Filters,\n",
    "    ConversationHandler,\n",
    "    CallbackContext,\n",
    ")\n"
   ]
  },
  {
   "cell_type": "code",
   "execution_count": 12,
   "metadata": {},
   "outputs": [],
   "source": [
    "STATE, DISTRICT, AGE = range(3)"
   ]
  },
  {
   "cell_type": "code",
   "execution_count": 13,
   "metadata": {},
   "outputs": [],
   "source": [
    "def remove_job_if_exists(name: str, context: CallbackContext) -> bool:\n",
    "    current_jobs = context.job_queue.get_jobs_by_name(name)\n",
    "    if not current_jobs:\n",
    "        return False\n",
    "    for job in current_jobs:\n",
    "        job.schedule_removal()\n",
    "    return True"
   ]
  },
  {
   "cell_type": "code",
   "execution_count": 14,
   "metadata": {},
   "outputs": [],
   "source": [
    "def start(update: Update, context: CallbackContext) -> int:\n",
    "    remove_job_if_exists(str(update.message.chat_id), context)\n",
    "    update.message.reply_text(\n",
    "        'Hi! Im Cowin bot. I will help you book covid vaccination appointment near you. '\n",
    "        'Send /stop anytime to stop talking to me.\\n\\n'\n",
    "        'Which state are you in?\\n'\n",
    "        'Possible values:\\n'+'\\n'.join(states_rev.keys())\n",
    "    )\n",
    "    logger.info(\"{} has connected to the bot.\".format(update.message.from_user['username']))\n",
    "    return STATE"
   ]
  },
  {
   "cell_type": "code",
   "execution_count": 15,
   "metadata": {},
   "outputs": [],
   "source": [
    "def state(update: Update, context: CallbackContext) -> int:\n",
    "    user = update.message.from_user\n",
    "    chosen_state = update.message.text.strip()\n",
    "    if not valid_state(chosen_state):\n",
    "        update.message.reply_text('Please enter a valid state')\n",
    "        return STATE\n",
    "    \n",
    "    logger.info(\"{} has selected state {}.\".format(update.message.from_user['username'], chosen_state))\n",
    "    state_id = states_rev[chosen_state.lower()]\n",
    "    context.user_data[\"state\"] = state_id\n",
    "    possible_districts = list(states_info[state_id]['districts'].values())\n",
    "    update.message.reply_text('Which district(s) you want to search for? Enter comma separated values.\\nPossible values:\\n{}'.format(\"\\n\".join(possible_districts)))\n",
    "    return DISTRICT"
   ]
  },
  {
   "cell_type": "code",
   "execution_count": 16,
   "metadata": {},
   "outputs": [],
   "source": [
    "def district(update: Update, context: CallbackContext) -> int:\n",
    "    user = update.message.from_user\n",
    "    chosen_districts = update.message.text.split(\",\")\n",
    "    chosen_districts = list(set([d.strip() for d in chosen_districts]))\n",
    "    \n",
    "    if not all(valid_district(district) for district in chosen_districts):\n",
    "        update.message.reply_text('Please enter valid district(s).')\n",
    "        return DISTRICT\n",
    "    \n",
    "    logger.info(\"{} has selected districts {}.\".format(update.message.from_user['username'], chosen_districts))\n",
    "    reply_keyboard = [['Yes', 'No']]\n",
    "    district_ids = [districts_rev[d.lower()] for d in chosen_districts]\n",
    "    context.user_data[\"districts\"] = district_ids\n",
    "    update.message.reply_text('Do you want to search only for slots available for 18-45 age group?',\n",
    "                              reply_markup=ReplyKeyboardMarkup(reply_keyboard, one_time_keyboard=True))\n",
    "    return AGE"
   ]
  },
  {
   "cell_type": "code",
   "execution_count": 17,
   "metadata": {},
   "outputs": [],
   "source": [
    "def callback_alarm(context: CallbackContext):\n",
    "    user_data = context.job.context \n",
    "    appointments = find_appointments(user_data['districts'], datetime.today().strftime('%d-%m-%Y'), \n",
    "                                     user_data['only_18_plus'])\n",
    "    if len(appointments) > 0:\n",
    "        context.bot.send_message(chat_id=user_data['chat_id'], \n",
    "                                 text=\"The slots are available!! Centers -\\n{}\\nSend /stop anytime to stop talking to me.\\n\\n\".format(\"\\n\".join(appointments[:20])))\n",
    "        logger.info(\"Slots found for user {} searching for district_id {} and 18+ {}\".format(\n",
    "            user_data['username'], user_data['districts'], user_data[\"only_18_plus\"]))"
   ]
  },
  {
   "cell_type": "code",
   "execution_count": 18,
   "metadata": {},
   "outputs": [],
   "source": [
    "def age(update: Update, context: CallbackContext) -> int:\n",
    "    user = update.message.from_user\n",
    "    only_18_plus = update.message.text.lower() == 'yes'\n",
    "    logger.info(\"{} response for 18+ - {}.\".format(user['username'], update.message.text))\n",
    "    context.user_data[\"only_18_plus\"] = only_18_plus\n",
    "    chat_id = update.message.chat_id\n",
    "    context.user_data.update({'chat_id':chat_id, 'username':user['username']})\n",
    "    remove_job_if_exists(str(chat_id), context)\n",
    "    context.job_queue.run_repeating(callback_alarm, 60, context=context.user_data, name=str(chat_id))\n",
    "    update.message.reply_text('I will update you if any slots open up! Till then, take care and stay home if possible.', \n",
    "                              reply_markup=ReplyKeyboardRemove())\n",
    "    return AGE"
   ]
  },
  {
   "cell_type": "code",
   "execution_count": 19,
   "metadata": {},
   "outputs": [],
   "source": [
    "def stop(update: Update, context: CallbackContext) -> int:\n",
    "    user = update.message.from_user\n",
    "    update.message.reply_text(\n",
    "        'Bye {}! Take care and stay home if possible.\\n\\nSend /start anytime to start talking to me.'.format(user.first_name), \n",
    "        reply_markup=ReplyKeyboardRemove()\n",
    "    )\n",
    "    remove_job_if_exists(str(update.message.chat_id), context)\n",
    "    logger.info(\"{} has stopped the conversation.\".format(update.message.from_user['username']))\n",
    "    return ConversationHandler.END"
   ]
  },
  {
   "cell_type": "code",
   "execution_count": null,
   "metadata": {},
   "outputs": [],
   "source": [
    "updater = Updater(token='1794674455:AAGjQarqlo_WFqopHyqVL-C7xCIkhjV2lAs')\n",
    "\n",
    "dispatcher = updater.dispatcher\n",
    "\n",
    "conv_handler = ConversationHandler(\n",
    "    entry_points=[CommandHandler('start', start)],\n",
    "    states={\n",
    "        STATE: [MessageHandler(Filters.text & ~Filters.command, state)],\n",
    "        DISTRICT: [MessageHandler(Filters.text & ~Filters.command, district)],\n",
    "        AGE: [MessageHandler(Filters.regex('^(Yes|No)$'), age)]\n",
    "    },\n",
    "    fallbacks=[CommandHandler('stop', stop)],\n",
    ")\n",
    "\n",
    "dispatcher.add_handler(conv_handler)\n",
    "\n",
    "updater.start_polling()\n",
    "\n",
    "updater.idle()"
   ]
  },
  {
   "cell_type": "code",
   "execution_count": null,
   "metadata": {},
   "outputs": [],
   "source": []
  }
 ],
 "metadata": {
  "kernelspec": {
   "display_name": "Python 3",
   "language": "python",
   "name": "python3"
  },
  "language_info": {
   "codemirror_mode": {
    "name": "ipython",
    "version": 3
   },
   "file_extension": ".py",
   "mimetype": "text/x-python",
   "name": "python",
   "nbconvert_exporter": "python",
   "pygments_lexer": "ipython3",
   "version": "3.8.5"
  }
 },
 "nbformat": 4,
 "nbformat_minor": 4
}
